{
 "cells": [
  {
   "cell_type": "code",
   "execution_count": 8,
   "id": "84eff178-9f73-43f1-8be2-c46d802671a3",
   "metadata": {},
   "outputs": [],
   "source": [
    "\n",
    "import cv2\n",
    "import numpy as np\n",
    "import dlib\n",
    "import scipy\n",
    "\n"
   ]
  },
  {
   "cell_type": "code",
   "execution_count": 9,
   "id": "3d7e39bf-180b-4b21-ab28-7104f197b5ab",
   "metadata": {},
   "outputs": [],
   "source": [
    "\n",
    "#img1=cv2.imread('./chahat_c.jpeg')\n",
    "#img1_2=cv2.imread('./nitin.jpg')\n",
    "\n",
    "#img2_gray=cv2.cvtColor(img1_2,cv2.COLOR_BGR2GRAY)\n",
    "#img1=cv2.resize(img1,(500,500))"
   ]
  },
  {
   "cell_type": "code",
   "execution_count": 10,
   "id": "3701ec9a-19fe-4f89-b9fa-902e1bfd688b",
   "metadata": {},
   "outputs": [],
   "source": [
    "import matplotlib.pyplot as plt"
   ]
  },
  {
   "cell_type": "code",
   "execution_count": 11,
   "id": "6d38112f-921f-49c1-865b-e341f3531d5c",
   "metadata": {},
   "outputs": [],
   "source": [
    "# plt.imshow(img1,cmap=\"gray\")"
   ]
  },
  {
   "cell_type": "code",
   "execution_count": 12,
   "id": "25f04d88-d073-42a9-9199-d59f296c4db2",
   "metadata": {},
   "outputs": [],
   "source": [
    "from scipy.spatial import distance\n",
    "def distance_function(pts1,pts1_): #compute r^2xlog(r^2)\n",
    "    diff_pts=(pts1-pts1_)\n",
    "    #r_sq=distance.cdist(pts1,pts1_,'sqeuclidean')\n",
    "    r=np.linalg.norm(diff_pts)\n",
    "    # r=np.sqrt(r)\n",
    "    # r_sq=np.square(r)\n",
    "    r_sq=r\n",
    "    #print(np.log(r_sq))\n",
    "    \n",
    "    U=np.multiply((r_sq**2),np.log(r_sq+1e-5\n",
    "                               ))    #print(U)\n",
    "    return U\n",
    "    \n",
    "\n",
    "def global_cord_img(x_,y_,h_,w_):\n",
    "    l1=np.arange(x_,x_+h_+2)\n",
    "    l2=np.arange(y_,y_+w_+2)\n",
    "    a=np.meshgrid(l1,l2)\n",
    "    a=np.array(a)\n",
    "    #a\n",
    "    a=np.moveaxis(a,0,-1)\n",
    "    print(a.shape)\n",
    "    ones=np.ones((a.shape[0],a.shape[1],1))\n",
    "    # print(a[:,1])\n",
    "    g_cord=np.concatenate([a,ones],-1)\n",
    "    return g_cord\n",
    "\n",
    "def distanc_function_forward(patch,reference,weights):\n",
    "    patch=np.tile(patch[:,:2],(68,1,1,))\n",
    "    # print(patch.shape)\n",
    "    _,w,h=patch.shape\n",
    "    reference=np.tile(np.expand_dims(reference,1),(1,w,1))\n",
    "    # print(reference.shape)\n",
    "    diff_pts=(patch-reference)\n",
    "    \n",
    "    r=np.linalg.norm(diff_pts,axis=-1)\n",
    "    \n",
    "    # r=np.sqrt(r)\n",
    "    # r_sq=np.square(r)\n",
    "    r_sq=r\n",
    "    U=(r_sq**2)*np.log(r_sq+1e-5)\n",
    "    # print(r.shape)\n",
    "    w,h=r.shape\n",
    "    weights=weights[:-3,:]\n",
    "    #weights=np.expand_dims(weights,-1)\n",
    "    #weights_exp=np.tile(weights,(1,w,h))\n",
    "    \n",
    "    # weights_ex\n",
    "    summation=U.T@weights\n",
    "    # print(summation.shape)\n",
    "    return summation#.shape\n",
    "def weights_for_tps(mx,my):\n",
    "    lm_w,lm_h=mx.shape\n",
    "    k=np.zeros((lm_w,lm_w))\n",
    "    for i_ in range(len(mx)):\n",
    "        #for j_ in range(i_,len(multi_img_face_lm[0])):\n",
    "        for j_ in range(len(mx)):\n",
    "            k[i_,j_]=distance_function(my[i_],my[j_])\n",
    "\n",
    "\n",
    "    P=np.ones((lm_w,3))\n",
    "    P[:,0]=my[:,1]\n",
    "    P[:,1]=my[:,0]\n",
    "    A_=np.zeros((lm_w+3,lm_w+3))\n",
    "    A_[:-3,:-3]=k\n",
    "    A_[:-3,-3:]=P\n",
    "    A_[-3:,:-3]=P.T\n",
    "    I=np.identity(A_.shape[0])\n",
    "    lamda=1e-3\n",
    "    A=A_+lamda*I\n",
    "    A_inv=np.linalg.inv(A)\n",
    "    x_coord_zeros=np.zeros((A_.shape[0],1))\n",
    "    x_coord_zeros[:-3,0]=mx[:,0]\n",
    "    y_coord_zeros=np.zeros((A_.shape[0],1))\n",
    "    y_coord_zeros[:-3,0]=mx[:,1]\n",
    "\n",
    "\n",
    "\n",
    "    weights_x=A_inv @ x_coord_zeros\n",
    "    weights_y=A_inv @ y_coord_zeros\n",
    "    return weights_x,weights_y\n",
    "def tps_swaping(mx,my,img2,img3,weights_x,weight_y):\n",
    "    poly_left = cv2.convexHull(my)#img2[op[:,1],op[:,0]]#np.array([(51, 228), (100, 151), (233, 102), (338, 110), (426, 160), (373, 252), (246, 284), (134, 268)], np.int32)\n",
    "\n",
    "\n",
    "    src_mask = np.zeros((img3.shape[0],img3.shape[1]), img3.dtype)\n",
    "    src_mask=cv2.fillPoly(src_mask, [poly_left], (255))\n",
    "    x,y=np.where(src_mask==255)\n",
    "    coordinate_x=np.ones((x.shape[0],3))\n",
    "    coordinate_x[:,0]=x\n",
    "    coordinate_x[:,1]=y\n",
    "    # corcy=multi_img_face_lm[0]\n",
    "    mask=255*np.ones(img1.shape)\n",
    "    mask=np.uint8(mask)\n",
    "    # mask.shape\n",
    "\n",
    "    m,n,_=img1.shape\n",
    "    poly_left = cv2.convexHull(my)\n",
    "\n",
    "    #plt.imshow(src_mask)\n",
    "    corcx=multi_img_face_lm[0].copy()\n",
    "    corcx[:,0]=my[:,1].copy()\n",
    "    corcx[:,1]=my[:,0].copy()\n",
    "\n",
    "    x,y=np.where(src_mask==255)\n",
    "    op_x=(coordinate_x @weights_x[-3:,:])+distanc_function_forward(coordinate_x,corcx,weights_x)\n",
    "    op_y=(coordinate_x @weights_y[-3:,:])+distanc_function_forward(coordinate_x,corcx,weights_y)\n",
    "    op_x=np.reshape(op_x,(op_x.shape[0]*op_x.shape[1],1))\n",
    "    op_y=np.reshape(op_y,(op_y.shape[0]*op_y.shape[1],1))\n",
    "\n",
    "    op=np.concatenate((op_x,op_y),axis=-1)\n",
    "    # # coordinate_x.shape\n",
    "    op=np.array(op,np.int32)\n",
    "    coordinate_x1=np.array(coordinate_x,dtype=np.int32)\n",
    "\n",
    "    # img3_=np.zeros(img2.shape)\n",
    "    # img3=img2.copy()\n",
    "    temp=img3[op[:,1],op[:,0]]\n",
    "\n",
    "\n",
    "    # img2[op[:,1],op[:,0]]=img3[coordinate_x1[:,0],coordinate_x1[:,1]]\n",
    "    img2[coordinate_x1[:,0],coordinate_x1[:,1]]=temp\n",
    "    # img3_[op[:,1],op[:,0]]=img2[coordinate_x1[:,0],coordinate_x1[:,1]]\n",
    "    return img2\n",
    "def posisson_blending(src,dst,mx,rects):\n",
    "    poly_left = cv2.convexHull(mx)#img2[op[:,1],op[:,0]]#np.array([(51, 228), (100, 151), (233, 102), (338, 110), (426, 160), (373, 252), (246, 284), (134, 268)], np.int32)\n",
    "\n",
    "    src_mask = np.zeros((dst.shape), dst.dtype)\n",
    "    src_mask=cv2.fillPoly(src_mask, [poly_left], (255,255,255))\n",
    "    plt.imshow(src_mask)\n",
    "    im1=cv2.seamlessClone(src,dst,src_mask,(int((rects[1][0]+rects[0][0])/2),int((rects[1][1]+rects[0][1])/2)),cv2.NORMAL_CLONE)\n",
    "    #im1=cv2.seamlessClone(src,dest,src_mask1,(int((rects[0][1][0]+rects[0][0][0])/2),int((rects[0][1][1]+rects[0][0][1])/2)),cv2.NORMAL_CLONE)\n",
    "    return im1\n",
    "def detect_face(img1_gray):\n",
    "    hog_detector=dlib.get_frontal_face_detector()\n",
    "    hog_predictor=dlib.shape_predictor('./shape_predictor_68_face_landmarks.dat')\n",
    "    rects=hog_detector(img1_gray,2)\n",
    "    no_of_faces=len(rects)\n",
    "    return no_of_faces,hog_predictor,rects\n",
    "#hog_detector=dlib.get_frontal_face_detector()\n",
    "#hog_predictor=dlib.shape_predictor('./shape_predictor_68_face_landmarks.dat')\n",
    "\n",
    "def landmarks_extraction(img1_gray,hog_predictor,rects):\n",
    "    # bounding_box=[]\n",
    "    # multi_img_face_lm=[]\n",
    "\n",
    "    # landmarks_index_list=[]\n",
    "    landmarks_index={}\n",
    "    x_=(hog_predictor(img1_gray,rects))\n",
    "    facial_landmarks=np.array([[x_.part(i).x ,x_.part(i).y] for i in range(68) ])\n",
    "    #if iter_landmarks==1:\n",
    "    for ind,val in enumerate(facial_landmarks):\n",
    "        landmarks_index[tuple(val)]=ind\n",
    "    # landmarks_index_list.append(landmarks_index)\n",
    "    # multi_img_face_lm.append(facial_landmarks)\n",
    "    bounding=[]\n",
    "\n",
    "    bounding.append((rects.left(),rects.top(),rects.right(),rects.bottom()))    \n",
    "\n",
    "    # bounding_box.append(x)\n",
    "    return bounding,landmarks_index,facial_landmarks\n",
    "def get_bounding_box(facial_landmarks):\n",
    "    x,y,w,h=(cv2.boundingRect(cv2.convexHull(facial_landmarks)))\n",
    "\n",
    "    return ((x,y),(x+w,y+h)),cv2.Subdiv2D((x,y,x+w,y+h))\n"
   ]
  },
  {
   "cell_type": "code",
   "execution_count": 13,
   "id": "88f78dee-8233-4a84-af36-9969b362fbf8",
   "metadata": {},
   "outputs": [
    {
     "name": "stdout",
     "output_type": "stream",
     "text": [
      "0\n",
      "0\n",
      "0\n",
      "0\n",
      "0\n",
      "0\n",
      "0\n",
      "0\n",
      "0\n",
      "0\n",
      "0\n",
      "0\n",
      "0\n",
      "0\n",
      "0\n",
      "0\n",
      "0\n",
      "0\n",
      "0\n",
      "0\n",
      "0\n",
      "0\n",
      "0\n",
      "0\n",
      "0\n",
      "0\n",
      "0\n",
      "0\n",
      "0\n",
      "0\n",
      "0\n",
      "0\n",
      "0\n",
      "0\n",
      "0\n",
      "0\n",
      "0\n",
      "0\n",
      "0\n",
      "0\n",
      "0\n",
      "0\n",
      "0\n",
      "0\n",
      "0\n",
      "0\n",
      "0\n",
      "0\n",
      "0\n",
      "0\n",
      "0\n",
      "0\n",
      "0\n",
      "0\n",
      "0\n",
      "0\n",
      "0\n",
      "0\n",
      "0\n",
      "0\n",
      "0\n",
      "0\n",
      "0\n",
      "0\n",
      "0\n",
      "0\n",
      "0\n",
      "0\n",
      "0\n",
      "0\n",
      "0\n",
      "0\n",
      "0\n",
      "0\n",
      "0\n",
      "0\n",
      "0\n",
      "0\n",
      "0\n",
      "0\n",
      "0\n",
      "0\n",
      "0\n",
      "0\n",
      "0\n",
      "0\n",
      "0\n",
      "0\n",
      "0\n",
      "0\n",
      "0\n",
      "0\n",
      "0\n",
      "0\n",
      "0\n",
      "0\n",
      "0\n",
      "0\n",
      "0\n",
      "0\n",
      "0\n",
      "0\n",
      "0\n",
      "0\n",
      "0\n",
      "0\n"
     ]
    },
    {
     "data": {
      "image/png": "[encoded data removed]",
      "text/plain": [
       "<Figure size 432x288 with 1 Axes>"
      ]
     },
     "metadata": {
      "needs_background": "light"
     },
     "output_type": "display_data"
    }
   ],
   "source": [
    "cap=cv2.VideoCapture('./TestSet_P2/Test2.mp4')\n",
    "for i in range(1):\n",
    "    _,im=cap.read()\n",
    "m,n,_=im.shape\n",
    "out=cv2.VideoWriter('outpy.mp4',cv2.VideoWriter_fourcc(*'mp4v'), 10, (n,m))\n",
    "i_=0\n",
    "while (cap.isOpened()):\n",
    "    # print(1)\n",
    "    ret,img1=cap.read()\n",
    "    if ret==False:\n",
    "        break\n",
    "\n",
    "    # img1=cv2.imread('./joker-2-joaquin-phoenix-batman-robert-pattinson-1186783.jpg')\n",
    "    img=img1.copy()\n",
    "    img2=img1.copy()\n",
    "    img2_=img1.copy()\n",
    "    img1_1=img1.copy()\n",
    "    img1_gray=cv2.cvtColor(img1,cv2.COLOR_BGR2GRAY)\n",
    "    no_of_faces,hog_predictor,rects=detect_face(img1_gray)\n",
    "    subdiv2=[]\n",
    "    bounding_box=[]\n",
    "    multi_img_face_lm=[]\n",
    "    cv2.imshow('frame_t',img1)\n",
    "    landmarks_index_list=[]\n",
    "    rect_=[]\n",
    "    if no_of_faces==2:\n",
    "        # print(1)\n",
    "        bounding,landmarks_index,facial_landmarks=landmarks_extraction(img1_gray,hog_predictor,rects[0])\n",
    "        bounding_box.append(bounding)\n",
    "        multi_img_face_lm.append(facial_landmarks)\n",
    "        landmarks_index_list.append(landmarks_index)\n",
    "\n",
    "        bounding,landmarks_index,facial_landmarks=landmarks_extraction(img1_gray,hog_predictor,rects[1])\n",
    "        bounding_box.append(bounding)\n",
    "        multi_img_face_lm.append(facial_landmarks)\n",
    "        landmarks_index_list.append(landmarks_index)\n",
    "        multi_img_face_lm=np.array(multi_img_face_lm)\n",
    "\n",
    "        rect1,subdiv1=(get_bounding_box(multi_img_face_lm[0]))\n",
    "        rect_.append(rect1)\n",
    "        subdiv2.append(subdiv1)\n",
    "        # print(i_)\n",
    "        rect2,subdiv1=(get_bounding_box(multi_img_face_lm[1]))\n",
    "        rect_.append(rect2)\n",
    "        subdiv2.append(subdiv1)\n",
    "        rects=rect_\n",
    "        weights_x,weights_y=weights_for_tps(multi_img_face_lm[0],multi_img_face_lm[1])\n",
    "        im=tps_swaping(multi_img_face_lm[0].copy(),multi_img_face_lm[1].copy(),img2.copy(),img2_.copy(),weights_x,weights_y)\n",
    "\n",
    "\n",
    "        weights_x,weights_y=weights_for_tps(multi_img_face_lm[1],multi_img_face_lm[0])\n",
    "        im=tps_swaping(multi_img_face_lm[1].copy(),multi_img_face_lm[0].copy(),im.copy(),img2_.copy(),weights_x,weights_y)\n",
    "\n",
    "\n",
    "        im1=posisson_blending(im,img2_,multi_img_face_lm[1],rects[1])\n",
    "        im1=posisson_blending(im,im1,multi_img_face_lm[0],rects[0])\n",
    "        cv2.imshow('Frame',im1)\n",
    "\n",
    "        # 20 is in milliseconds, try to increase the value, say 50 and observe\n",
    "        key = cv2.waitKey(1)\n",
    "\n",
    "        out.write(im1)\n",
    "        if key == ord('q'):\n",
    "\n",
    "          break\n",
    "\n",
    "\n",
    "        #plt.imshow(im1)\n",
    "\n",
    "cap.release()\n",
    "\n",
    "out.release()\n",
    "\n",
    " \n",
    "cv2.destroyAllWindows()\n"
   ]
  },
  {
   "cell_type": "code",
   "execution_count": 14,
   "id": "e7c11776-5534-4c62-9801-ab2e035c4ea1",
   "metadata": {},
   "outputs": [
    {
     "ename": "AttributeError",
     "evalue": "'list' object has no attribute 'shape'",
     "output_type": "error",
     "traceback": [
      "\u001b[0;31m---------------------------------------------------------------------------\u001b[0m",
      "\u001b[0;31mAttributeError\u001b[0m                            Traceback (most recent call last)",
      "Input \u001b[0;32mIn [14]\u001b[0m, in \u001b[0;36m<cell line: 1>\u001b[0;34m()\u001b[0m\n\u001b[0;32m----> 1\u001b[0m \u001b[43mmulti_img_face_lm\u001b[49m\u001b[38;5;241;43m.\u001b[39;49m\u001b[43mshape\u001b[49m\n",
      "\u001b[0;31mAttributeError\u001b[0m: 'list' object has no attribute 'shape'"
     ]
    }
   ],
   "source": [
    "multi_img_face_lm.shape"
   ]
  },
  {
   "cell_type": "code",
   "execution_count": null,
   "id": "5435a2b5-cbf9-4b69-947c-02c91328993d",
   "metadata": {},
   "outputs": [],
   "source": [
    "for j in range(1,3):\n",
    "    for i in range(68): \n",
    "        cv2.circle(img1,multi_img_face_lm[j-1][i][:],color=[255,255,255],radius=5,thickness=2)\n",
    "    #print(j)\n",
    "    img1=cv2.rectangle(img1,(bounding_box[j-1][0][0],bounding_box[j-1][0][1]),(bounding_box[j-1][0][2],bounding_box[j-1][0][3]),color=[255,0,255],thickness=5)\n",
    "    #j=1\n",
    "\n",
    "# img1=cv2.rectangle(img1,( 377,95), ( 526,244),color=[255,255,255],thickness=5)\n",
    "j=2\n",
    "\n",
    "\n"
   ]
  },
  {
   "cell_type": "code",
   "execution_count": null,
   "id": "5ce88a05-c962-4b8b-9d44-41118dd26348",
   "metadata": {},
   "outputs": [],
   "source": [
    "plt.imshow(img1,cmap='gray')"
   ]
  },
  {
   "cell_type": "code",
   "execution_count": null,
   "id": "a389f629-fc2b-4d41-b58a-dff9fb4f42fe",
   "metadata": {},
   "outputs": [],
   "source": []
  },
  {
   "cell_type": "code",
   "execution_count": null,
   "id": "ea77ae4d-c9a9-4cd4-8078-327b68d828b5",
   "metadata": {},
   "outputs": [],
   "source": [
    "len(landmarks_index_list[1])\n",
    "rects"
   ]
  },
  {
   "cell_type": "code",
   "execution_count": null,
   "id": "39bb768f-24d9-4bfa-98b6-f181294026c9",
   "metadata": {},
   "outputs": [],
   "source": [
    "bounding_box"
   ]
  },
  {
   "cell_type": "code",
   "execution_count": null,
   "id": "ac7f07b7-5780-4f0c-8e19-03d25b41a206",
   "metadata": {},
   "outputs": [],
   "source": [
    "multi_img_face_lm.shape"
   ]
  },
  {
   "cell_type": "code",
   "execution_count": null,
   "id": "ddae4993-6582-462c-a35a-6541796c64f6",
   "metadata": {},
   "outputs": [],
   "source": [
    "subdiv2=[]\n",
    "rect_=[]\n",
    "for i in range(2):\n",
    "    x,y,w,h=(cv2.boundingRect(cv2.convexHull(multi_img_face_lm[i])))\n",
    "    subdiv2.append(cv2.Subdiv2D((x,y,x+w,y+h)))\n",
    "    rect_.append(((x,y),(x+w,y+h)))\n",
    "#rect1=cv2.boundingRect(rect[1])\n",
    "rect_"
   ]
  },
  {
   "cell_type": "code",
   "execution_count": null,
   "id": "97b9c29a-7910-4ef8-89c4-81b649140ac1",
   "metadata": {},
   "outputs": [],
   "source": [
    "for rect in rect_:\n",
    "    \n",
    "    plt.imshow(cv2.rectangle(img,rect[0],rect[1],[255,255,255],5))\n",
    "    #break\n",
    "plt.imshow(img)\n",
    "rects=rect_\n",
    "\n"
   ]
  },
  {
   "cell_type": "code",
   "execution_count": null,
   "id": "e911b4c0-8b29-4b01-8394-f098f46f32c5",
   "metadata": {},
   "outputs": [],
   "source": []
  },
  {
   "cell_type": "code",
   "execution_count": null,
   "id": "82d4d7c7-bec2-4621-822e-a2ba58bbbf8d",
   "metadata": {},
   "outputs": [],
   "source": [
    "rect_"
   ]
  },
  {
   "cell_type": "code",
   "execution_count": null,
   "id": "f5f0bf53-92a0-4b6e-b277-6837c7298f1d",
   "metadata": {},
   "outputs": [],
   "source": []
  },
  {
   "cell_type": "code",
   "execution_count": null,
   "id": "54e2e806-1e5d-4898-bfa5-9d64a61b90ba",
   "metadata": {},
   "outputs": [],
   "source": [
    "plt.imshow(im1)\n",
    "cv2.imwrite('im.jpg',im1)"
   ]
  },
  {
   "cell_type": "code",
   "execution_count": null,
   "id": "82e55a0b-337a-4f5f-8985-f7caa7dcb57f",
   "metadata": {},
   "outputs": [],
   "source": [
    "rect_"
   ]
  },
  {
   "cell_type": "code",
   "execution_count": null,
   "id": "352d37d5-c779-4d30-b269-c6a6de29d2e3",
   "metadata": {},
   "outputs": [],
   "source": []
  },
  {
   "cell_type": "code",
   "execution_count": null,
   "id": "95ecbbf5-d122-4f69-9e3f-30671a819a29",
   "metadata": {},
   "outputs": [],
   "source": [
    "coordinate_x=global_cord_img(rects[1][0][1],rects[1][0][0],rects[1][1][1]-rects[1][0][1],rects[1][1][0]-rects[1][0][0])#img2[rect_[0][0][1]:rect_[0][1][1],rect_[0][0][0]:rect_[0][1][0]]\n",
    "# coordinate_x=global_cord_img(rects[0][0][1],rects[0][0][0],rects[0][0][3]-rects[0][0][1],rects[0][0][2]-rects[0][0][0])#img2[rect_[0][0][1]:rect_[0][1][1],rect_[0][0][0]:rect_[0][1][0]]\n",
    "m,n,z=coordinate_x.shape\n",
    "coordinate_x=coordinate_x.reshape(n*m,z)\n",
    "# temp=coordinate_x[:,0]\n",
    "# coordinate_x[:,0]=coordinate_x[:,1]\n",
    "# coordinate_x[:,1]=temp\n",
    "# coordinate_x.shape\n",
    "\n",
    "\n",
    "\n",
    "\n",
    "\n",
    "# weights_x[-3:,:].shape"
   ]
  },
  {
   "cell_type": "code",
   "execution_count": null,
   "id": "702460ea-707b-4b6d-a2fd-aaf7a9012dc0",
   "metadata": {},
   "outputs": [],
   "source": []
  },
  {
   "cell_type": "code",
   "execution_count": null,
   "id": "7bc91667-cc25-4978-bcbb-b974f2f86806",
   "metadata": {},
   "outputs": [],
   "source": [
    "(coordinate_x @weights_x[-3:,:]).shape\n",
    "distanc_function_forward(coordinate_x,multi_img_face_lm[0],weights_x).T.shape\n",
    "coordinate_x2=coordinate_x"
   ]
  },
  {
   "cell_type": "code",
   "execution_count": null,
   "id": "5e6fbf6a-14ce-4ccb-8a0b-911121c2630c",
   "metadata": {},
   "outputs": [],
   "source": [
    "corcy=multi_img_face_lm[0]\n",
    "mask=255*np.ones(img1.shape)\n",
    "mask=np.uint8(mask)\n",
    "mask.shape\n",
    "m,n,_=img1.shape\n",
    "top, bottom, left, right = 20, 20, 20, 20\n",
    "border_bg = cv2.copyMakeBorder(img1_1, top, bottom, left, right, cv2.BORDER_CONSTANT, value=[0, 0, 0])\n",
    "border_fg = cv2.copyMakeBorder(img2, top, bottom, left, right, cv2.BORDER_CONSTANT, value=[0, 0, 0])\n",
    "#border_mask = cv2.copyMakeBorder(img1_1, top, bottom, left, right, cv2.BORDER_CONSTANT, value=0)\n",
    "poly_left = cv2.convexHull(multi_img_face_lm[1])#img2[op[:,1],op[:,0]]#np.array([(51, 228), (100, 151), (233, 102), (338, 110), (426, 160), (373, 252), (246, 284), (134, 268)], np.int32)\n",
    "\n",
    "src_mask = np.zeros((img2_.shape[0],img2_.shape[1]), img2_.dtype)\n",
    "src_mask=cv2.fillPoly(src_mask, [poly_left], (255))\n",
    "plt.imshow(src_mask)"
   ]
  },
  {
   "cell_type": "code",
   "execution_count": null,
   "id": "c9b2b384-e14b-4f6b-a939-9659c39970cc",
   "metadata": {},
   "outputs": [],
   "source": [
    "x,y=np.where(src_mask==255)\n",
    "x"
   ]
  },
  {
   "cell_type": "code",
   "execution_count": null,
   "id": "f8773893-dd21-4899-9a79-3dab8b1703d6",
   "metadata": {},
   "outputs": [],
   "source": [
    "coordinate_x=np.ones((x.shape[0],3))\n",
    "coordinate_x[:,0]=x\n",
    "coordinate_x[:,1]=y\n",
    "\n"
   ]
  },
  {
   "cell_type": "code",
   "execution_count": null,
   "id": "7540bf5e-a833-4bec-bebc-1003b6d206d5",
   "metadata": {},
   "outputs": [],
   "source": [
    "corcx=multi_img_face_lm[0].copy()\n",
    "corcx[:,0]=multi_img_face_lm[1][:,1].copy()\n",
    "corcx[:,1]=multi_img_face_lm[1][:,0].copy()\n",
    "\n",
    "\n",
    "op_x=(coordinate_x @weights_x[-3:,:])+distanc_function_forward(coordinate_x,corcx,weights_x)\n",
    "op_y=(coordinate_x @weights_y[-3:,:])+distanc_function_forward(coordinate_x,corcx,weights_y)\n",
    "# print(op_x.shape)\n",
    "#w_x=np.expand_dims(wei\"ghts_x,-1)\n",
    "#w_x.shape\n",
    "#np.tile(w_x,(1,152,164)).shape\n",
    "#weights_x.shape\n",
    "# distanc_function_forward(coordinate_x,multi_img_face_lm[0],weights_x)\n",
    "# (coordinate_x @weights_x[-3:,:]).shape\n",
    "op_x=np.reshape(op_x,(op_x.shape[0]*op_x.shape[1],1))\n",
    "op_y=np.reshape(op_y,(op_y.shape[0]*op_y.shape[1],1))\n",
    "# coordinate_x1=np.reshape(coordinate_x[:,:,:2],(coordinate_x.shape[0]*coordinate_x.shape[1],2))\n",
    "#op_y=np.reshape(op_y,(coordinate_x.shape[0]*op_y.shape[1],1))\n",
    "\n",
    "import scipy.ndimage\n",
    "\n",
    "# op_x=np.expand_dims(op_x,-1)\n",
    "# op_y=np.expand_dims(op_y,-1)\n",
    "op=np.concatenate((op_x,op_y),axis=-1)\n",
    "# # coordinate_x.shape\n",
    "op=np.array(op,np.int32)\n",
    "coordinate_x1=np.array(coordinate_x,dtype=np.int32)\n",
    "#im3=scipy.ndimage.map_coordinates(img2,coordinate_x1,order=3, mode='constant', cval=0.0, prefilter=True)\n",
    "img3_=np.zeros(img2.shape)\n",
    "img3=img2.copy()\n",
    "temp=img3[op[:,1],op[:,0]]\n",
    "\n",
    "\n",
    "img2[op[:,1],op[:,0]]=img3[coordinate_x1[:,0],coordinate_x1[:,1]]\n",
    "img2[coordinate_x1[:,0],coordinate_x1[:,1]]=temp\n",
    "img3_[op[:,1],op[:,0]]=img2[coordinate_x1[:,0],coordinate_x1[:,1]]\n",
    "# img3_[coordinate_x1[:,0],coordinate_x1[:,1]]=img2[op[:,1],op[:,0]]\n",
    "np.max(op_y)#-np.min(op_y)\n",
    "# coordinate_x1[:,:].shape\n",
    "#np.mi\n",
    "#op.shape\n",
    "# img2[op[:,1],op[:,0],:]\n",
    "coordinate_x1[:,0]\n",
    "# cv2.resize(img2,None,fx=1,fy=1,interpolation=cv2.INTER_CUBIC)\n",
    "plt.imshow(img2)\n",
    "cv2.imwrite('img2.jpg',img2)\n",
    "# np.max(img3_)"
   ]
  },
  {
   "cell_type": "code",
   "execution_count": null,
   "id": "4d480f91-5bd3-46a2-9ca8-cc927e868ca1",
   "metadata": {},
   "outputs": [],
   "source": [
    "\n",
    "plt.imshow(img3)"
   ]
  },
  {
   "cell_type": "code",
   "execution_count": null,
   "id": "c584a3f8-6dde-424f-bf1b-fe40e20bf4ff",
   "metadata": {},
   "outputs": [],
   "source": [
    "x=np.where(src_mask==255)"
   ]
  },
  {
   "cell_type": "code",
   "execution_count": null,
   "id": "1596ae46-9f4c-4286-ba40-1252979ff8ae",
   "metadata": {},
   "outputs": [],
   "source": [
    "img2=np.array(img2,dtype=np.uint8)\n",
    "img3=np.uint8(img3)\n",
    "img1_1=np.uint8(img1_1)\n",
    "plt.imshow(img3)"
   ]
  },
  {
   "cell_type": "code",
   "execution_count": null,
   "id": "07162c2d-9ff0-4d24-aede-ff37c7b62f56",
   "metadata": {},
   "outputs": [],
   "source": [
    "plt.imshow(img)"
   ]
  },
  {
   "cell_type": "code",
   "execution_count": null,
   "id": "76c72c4c-e87c-4228-b84c-0bc0b16525a1",
   "metadata": {},
   "outputs": [],
   "source": [
    "poly_left = cv2.convexHull(multi_img_face_lm[1])#img2[op[:,1],op[:,0]]#np.array([(51, 228), (100, 151), (233, 102), (338, 110), (426, 160), (373, 252), (246, 284), (134, 268)], np.int32)\n",
    "\n",
    "src_mask = np.zeros((img2_.shape), img3.dtype)\n",
    "src_mask=cv2.fillPoly(src_mask, [poly_left], (255,255,255))\n",
    "plt.imshow(src_mask)\n",
    "\n",
    "poly_left1 = cv2.convexHull(multi_img_face_lm[0])#img2[op[:,1],op[:,0]]#np.array([(51, 228), (100, 151), (233, 102), (338, 110), (426, 160), (373, 252), (246, 284), (134, 268)], np.int32)\n",
    "\n",
    "src_mask1 = np.zeros((img2_.shape), img3.dtype)\n",
    "src_mask1=cv2.fillPoly(src_mask1, [poly_left1], (255,255,255))\n",
    "plt.imshow(src_mask1)"
   ]
  },
  {
   "cell_type": "code",
   "execution_count": null,
   "id": "d1abdaf0-3881-42c7-80a5-28f23fcfb437",
   "metadata": {},
   "outputs": [],
   "source": [
    "plt.imshow(img3)"
   ]
  },
  {
   "cell_type": "code",
   "execution_count": null,
   "id": "543b3003-926a-4c7d-9bed-e038b4e5ecac",
   "metadata": {},
   "outputs": [],
   "source": [
    "x=cv2.seamlessClone(img2,img3,src_mask,(int((rects[1][1][0]+rects[1][0][0])/2),int((rects[1][1][1]+rects[1][0][1])/2)),cv2.NORMAL_CLONE)\n",
    "x=cv2.seamlessClone(img2,x,src_mask1,(int((rects[0][1][0]+rects[0][0][0])/2),int((rects[0][1][1]+rects[0][0][1])/2)),cv2.NORMAL_CLONE)\n",
    "# x=cv2.seamlessClone(img2,img3,src_mask,(int((rects[1][1][0]+rects[1][0][0])/2),int((rects[1][1][1]+rects[1][0][1])/2)),cv2.MIXED_CLONE)"
   ]
  },
  {
   "cell_type": "code",
   "execution_count": null,
   "id": "4ab1f847-f16b-46ff-aa26-38f0746e53d9",
   "metadata": {},
   "outputs": [],
   "source": [
    "plt.imshow(x)\n",
    "cv2.imwrite(\"x.jpg\",x)"
   ]
  },
  {
   "cell_type": "code",
   "execution_count": null,
   "id": "ff7ca5a5-266a-4f5e-bbef-4b576e841a29",
   "metadata": {},
   "outputs": [],
   "source": [
    "(366+518)/2\n",
    "(119+265)/2\n",
    "(90+195)/2\n",
    "(82+189)/2"
   ]
  },
  {
   "cell_type": "code",
   "execution_count": null,
   "id": "2ce1ab53-c4b5-44d8-8495-43f30f4ce257",
   "metadata": {},
   "outputs": [],
   "source": [
    "plt.imshow(x)\n",
    "img.shape"
   ]
  },
  {
   "cell_type": "code",
   "execution_count": null,
   "id": "1b87445b-2bd9-4885-81f7-03b260b07997",
   "metadata": {},
   "outputs": [],
   "source": [
    "plt.imshow(img1_1)"
   ]
  },
  {
   "cell_type": "code",
   "execution_count": null,
   "id": "cce2851b-b839-4b8d-9080-5b26b4fd8c3f",
   "metadata": {},
   "outputs": [],
   "source": [
    "rect_"
   ]
  },
  {
   "cell_type": "code",
   "execution_count": null,
   "id": "93766aed-3b6b-454e-b7a5-099a31c3f17c",
   "metadata": {},
   "outputs": [],
   "source": []
  },
  {
   "cell_type": "code",
   "execution_count": null,
   "id": "203cd537-bbe5-4fb4-8754-970658836a12",
   "metadata": {},
   "outputs": [],
   "source": [
    "\n",
    "coordinate_x.shape"
   ]
  },
  {
   "cell_type": "code",
   "execution_count": null,
   "id": "fdcbe1ff-b53c-44c1-9718-772b3e644baa",
   "metadata": {},
   "outputs": [],
   "source": []
  },
  {
   "cell_type": "code",
   "execution_count": null,
   "id": "d92085f4-c923-407b-b3a8-a16dd755b49c",
   "metadata": {},
   "outputs": [],
   "source": [
    "assert y_coord_zeros[:-3,0].all()==multi_img_face_lm[1,:,0].all()"
   ]
  },
  {
   "cell_type": "code",
   "execution_count": null,
   "id": "8d316979-8312-45e3-82a9-6a7ec32b65d7",
   "metadata": {},
   "outputs": [],
   "source": []
  },
  {
   "cell_type": "code",
   "execution_count": null,
   "id": "7e193b8f-2521-4136-ad83-c77a62a4a4c3",
   "metadata": {},
   "outputs": [],
   "source": [
    "\n",
    "\n",
    "\n",
    "#distance_function(coordinate_x,)\n",
    "x_test=np.tile(coordinate_x[:,:,:2],(68,1,1,1))\n",
    "y_test=np.tile(np.expand_dims(np.expand_dims(multi_img_face_lm[0],1),1),(1,152,146,1))\n",
    "#weights_x\n",
    "#coordinate_x\n",
    "#plt.imshow(coordinate_x)\n",
    "multi_img_face_lm[0].shape\n",
    "# img1\n",
    "# rect_[0][1][1]\n",
    "# coordinate_x\n",
    "#np.repeat(np.expand_dims(np.expand_dims(multi_img_face_lm[0],0),0),64,axis=0).shape"
   ]
  },
  {
   "cell_type": "code",
   "execution_count": null,
   "id": "73dc31e7-d73c-455f-9b50-d1e54d2062b2",
   "metadata": {},
   "outputs": [],
   "source": []
  },
  {
   "cell_type": "code",
   "execution_count": null,
   "id": "b21cc6c6-600e-4ef2-9acd-2fb9b5eb8a7d",
   "metadata": {},
   "outputs": [],
   "source": [
    "x=np.random.randint(0,3,(3,3,2))\n",
    "y=np.random.randint(0,3,(2,1))\n",
    "(x@y).shape\n",
    "x_test.shape"
   ]
  },
  {
   "cell_type": "code",
   "execution_count": null,
   "id": "f7d0ddf7-0b37-43e3-8438-5687a9434bc4",
   "metadata": {},
   "outputs": [],
   "source": [
    "x=np.random.randint(0,4,(4,2))\n",
    "x"
   ]
  },
  {
   "cell_type": "code",
   "execution_count": null,
   "id": "18a530f9-1e00-4a09-be09-fb1b9ac961ac",
   "metadata": {},
   "outputs": [],
   "source": [
    "np.tile(np.tile(x,(3,1,1)),(3,1,1,1))[1,1,:,:]"
   ]
  },
  {
   "cell_type": "code",
   "execution_count": null,
   "id": "0bdc22bc-d7e8-41e3-ae14-eb4996c96e91",
   "metadata": {},
   "outputs": [],
   "source": [
    "np.tile(x,(3,3,1,1)).shape"
   ]
  },
  {
   "cell_type": "code",
   "execution_count": null,
   "id": "30ffcea8-a650-48c9-9ba9-b76f35e5bd41",
   "metadata": {},
   "outputs": [],
   "source": [
    "x_test.shape"
   ]
  },
  {
   "cell_type": "code",
   "execution_count": null,
   "id": "5c57d257-e6bd-408f-b3ed-ac667754a561",
   "metadata": {},
   "outputs": [],
   "source": [
    "multi_img_face_lm[0].shape"
   ]
  },
  {
   "cell_type": "code",
   "execution_count": null,
   "id": "3ab9baa4-a7a6-4cee-b1ff-a525fa47777c",
   "metadata": {},
   "outputs": [],
   "source": [
    "multi_img_face_lm[1][:,0]"
   ]
  },
  {
   "cell_type": "code",
   "execution_count": null,
   "id": "c9dd0ad8-a0b3-48a7-b609-a67a645c1fb6",
   "metadata": {},
   "outputs": [],
   "source": [
    "delunay_traingle_pts_list=[]\n",
    "for sub in subdiv2:\n",
    "    delunay_traingle_pts_list.append(sub.getTriangleList())\n",
    "\n",
    "def check_point(pts,box):\n",
    "    (xmin,ymin),(xmax,ymax)=box\n",
    "   # xmax,ymax= xmin+w,ymin+h\n",
    "    if pts[0]>xmin and pts[1]>ymin and pts[0]<xmax and pts[1]<ymax:\n",
    "        return True\n",
    "    else:\n",
    "        return False\n",
    "    \n",
    "sorted_delunay_lists=[]\n",
    "sorting_index_for_delunay_list=[]\n",
    "iter_=0\n",
    "#for delunay_traingle_points,landmark_index_ in zip(delunay_traingle_pts_list,landmarks_index_list):\n",
    "index_array_img=[]\n",
    "sorted_delunay_pts1=[]\n",
    "sorted_delunay_pts2=[]\n",
    "sorting_index_for_delunay=[]\n",
    "for p in delunay_traingle_pts_list[0]:\n",
    "    pts1=(int(p[0]),int(p[1]))\n",
    "    pts2=(int(p[2]),int(p[3]))    \n",
    "    pts3=(int(p[4]),int(p[5]))        \n",
    "    #print(pts1)\n",
    "    box=rect_[iter_]\n",
    "    if check_point(pts1,box) and check_point(pts2,box) and check_point(pts3,box) or True :\n",
    "        pts_vector1=np.array([pts1,pts2,pts3])\n",
    "        pts_vector2=np.zeros(pts_vector1.shape,dtype=np.int32)\n",
    "        #print(pts_vector1)\n",
    "        #index_array=np.zeros(3)\n",
    "        #for \n",
    "        index_array=[]\n",
    "        index=landmarks_index_list[0].get(tuple(pts1),False)\n",
    "        if index:\n",
    "            #index_array[0]=index\n",
    "            index_array.append(index)\n",
    "            pts_vector2[0]=multi_img_face_lm[1][index]\n",
    "\n",
    "        else:\n",
    "            continue\n",
    "        index=landmarks_index_list[0].get(tuple(pts2),False)\n",
    "        #pts_vector2[0]=multi_img_face_lm[0][index]\n",
    "        if index:\n",
    "            # index_array[1]=index\n",
    "            index_array.append(index)\n",
    "            pts_vector2[1]=multi_img_face_lm[1][index]\n",
    "        else:\n",
    "            continue\n",
    "        index=landmarks_index_list[0].get(tuple(pts3),False)\n",
    "        if index:\n",
    "            # index_array[2]=index\n",
    "            index_array.append(index)\n",
    "            pts_vector2[2]=multi_img_face_lm[1][index]\n",
    "            #print(pts_vector)\n",
    "        else:\n",
    "            continue\n",
    "        #index_add.append()\n",
    "        if len(index_array)!=3:\n",
    "            print('False')\n",
    "        index_array=np.array(index_array)\n",
    "        index_to_sort=np.argsort(index_array)\n",
    "        index_array=index_array[index_to_sort]\n",
    "        pts_vector1=pts_vector1[index_to_sort,:]\n",
    "        pts_vector2=pts_vector2[index_to_sort,:]\n",
    "        #print(pts_vector.shape)\n",
    "        inds=''\n",
    "        #print(index_array)\n",
    "\n",
    "        for ind_x in index_array:\n",
    "            ind_x=int(ind_x)\n",
    "            inds=inds+str(ind_x)\n",
    "        index_array_img.append(int(inds))\n",
    "        #index_array_img.append(index_array)\n",
    "        sorted_delunay_pts1.append(pts_vector1)\n",
    "        sorted_delunay_pts2.append(pts_vector2)\n",
    "        cv2.line(img1,pts1,pts2,[255,0, 255],1)\n",
    "        cv2.line(img1,pts3,pts2,[255,0,255],1)\n",
    "        cv2.line(img1,pts3,pts1,[255,0,255],1)\n",
    "        cv2.line(img1,(pts_vector2[0,0],pts_vector2[0,1]),(pts_vector2[1,0],pts_vector2[1,1]),[255,0, 255],1)\n",
    "        cv2.line(img1,(pts_vector2[2,0],pts_vector2[2,1]),(pts_vector2[1,0],pts_vector2[1,1]),[255,0,255],1)\n",
    "        cv2.line(img1,(pts_vector2[2,0],pts_vector2[2,1]),(pts_vector2[0,0],pts_vector2[0,1]),[255,0,255],1)\n",
    "iter_=iter_+1\n",
    "sorted_delunay_pts1=np.array(sorted_delunay_pts1)\n",
    "sorted_delunay_pts2=np.array(sorted_delunay_pts2)\n",
    "sorted_delunay_lists.append(sorted_delunay_pts1)\n",
    "sorted_delunay_lists.append(sorted_delunay_pts2)\n",
    "\n",
    "index_array_img=np.array(index_array_img)\n",
    "\n",
    "sorting_index_for_delunay_list.append(index_array_img)\n",
    "#break\n",
    "#index=np.argsort(sorting_index_for_delunay_list[0])\n",
    "#sorting_index_for_delunay_list[0]=sorting_index_for_delunay_list[0][index]\n",
    "#sorted_delunay_lists[0]=sorted_delunay_lists[0][index]\n",
    "#index=np.argsort(sorting_index_for_delunay_list[1])\n",
    "#sorting_index_for_delunay_list[1]=sorting_index_for_delunay_list[1][index]\n",
    "#sorted_delunay_lists[1]=sorted_delunay_lists[1][index]\n",
    "#sorted_delunay_lists[1]=sorted_delunay_lists[1][index]\n",
    "#index\n",
    "#index_array_img\n",
    "#sorting_index_for_delunay_list[0]\n",
    "#sorting_index_for_delunay_list[1]\n",
    "delunay_traingle_pts_list=sorted_delunay_lists\n",
    "# temp=delunay_traingle_pts_list[0]\n",
    "# delunay_traingle_pts_list[0]=delunay_traingle_pts_list[1]\n",
    "# delunay_traingle_pts_list[1]=temp"
   ]
  },
  {
   "cell_type": "code",
   "execution_count": null,
   "id": "ba77b68f-ae64-41f2-a52f-7cce176cc4b6",
   "metadata": {},
   "outputs": [],
   "source": [
    "delunay_traingle_pts_list[0].shape"
   ]
  },
  {
   "cell_type": "code",
   "execution_count": null,
   "id": "62440ed8-5571-4adb-9e9b-1095927ecf02",
   "metadata": {},
   "outputs": [],
   "source": [
    "weights_x"
   ]
  },
  {
   "cell_type": "code",
   "execution_count": null,
   "id": "c70260eb-3343-471e-8d80-571a6ce465c4",
   "metadata": {},
   "outputs": [],
   "source": [
    "arr2D = np.array([[11, 12, 13, 22], [21, 7, 23, 14], [31, 10, 33, 7]])\n",
    "array1D=[20,10,30]\n",
    "arr2D[np.argsort(array1D),:]"
   ]
  },
  {
   "cell_type": "code",
   "execution_count": null,
   "id": "dbf1f02e-b636-43dd-8cd0-8c84d09da80d",
   "metadata": {},
   "outputs": [],
   "source": [
    "int('1')"
   ]
  },
  {
   "cell_type": "code",
   "execution_count": null,
   "id": "a1b2e57f-955e-4257-a0ad-5ed42ded437a",
   "metadata": {},
   "outputs": [],
   "source": [
    "plt.imshow(img1)\n",
    "img1.shape"
   ]
  },
  {
   "cell_type": "code",
   "execution_count": null,
   "id": "b500c262-6f08-4b42-a991-c71cbec7432b",
   "metadata": {},
   "outputs": [],
   "source": [
    "# delunay_traingle_points[0].reshape(3,2)"
   ]
  },
  {
   "cell_type": "code",
   "execution_count": null,
   "id": "832065e3-7cbe-44eb-9123-d9e1039d5ebc",
   "metadata": {},
   "outputs": [],
   "source": [
    "#delunay_traingle_points[0]"
   ]
  },
  {
   "cell_type": "code",
   "execution_count": null,
   "id": "cf4ba628-d7e6-45ef-9a06-534553051114",
   "metadata": {},
   "outputs": [],
   "source": [
    "def global_cord_img(x_,y_,h_,w_):\n",
    "    l1=np.arange(x_,x_+h_)\n",
    "    l2=np.arange(y_,y_+w_)\n",
    "    a=np.meshgrid(l1,l2)\n",
    "    a=np.array(a)\n",
    "    #a\n",
    "    a=np.moveaxis(a,0,-1)\n",
    "    ones=np.ones((a.shape[0],a.shape[1],1))\n",
    "    g_cord=np.concatenate([a,ones],-1)\n",
    "    return g_cord\n",
    "#a.shape\n",
    "#ones.shape"
   ]
  },
  {
   "cell_type": "code",
   "execution_count": null,
   "id": "1d9f8cc0-9a70-4094-ae1a-e94ebbac7062",
   "metadata": {},
   "outputs": [],
   "source": [
    "#delunay_traingle_points[0]\n",
    "\n",
    "# x1=np.random.randint(0.2,1,(2,1))\n",
    "# x2=np.random.randint(0.2,1,(2,1))\n",
    "\n",
    "# z=distance_function(x1,x2)\n",
    "# np.log(1)z\n"
   ]
  },
  {
   "cell_type": "code",
   "execution_count": null,
   "id": "25437edb-ab7b-470d-baaa-fcf68e2b22dc",
   "metadata": {},
   "outputs": [],
   "source": [
    "for del_pts in delunay_traingle_pts_list[0][0]:\n",
    "    print(del_pts.shape)\n",
    "#k=np.zeros((3,3))\n",
    "#len(k)\n",
    "delunay_traingle_pts_list[0][0].shape\n",
    "P=np.ones((3,3))\n",
    "P[:,:2]=delunay_traingle_pts_list[0][0]\n",
    "P"
   ]
  },
  {
   "cell_type": "code",
   "execution_count": null,
   "id": "8bd1da75-4fdf-4d45-b535-3800e9b92bdf",
   "metadata": {},
   "outputs": [],
   "source": [
    "def image_warping(del_tri_pts1,del_tri_pts2,img2):\n",
    "    \n",
    "    #bayesian_coordinates.shape\n",
    "    #bayesian_coordinates[mask].shape\n",
    "    P=np.ones((3,3))\n",
    "    P[:,:2]=del_tri_pts1\n",
    "    \n",
    "    bayesian_coordinates_f=np.multiply(bayesian_coordinates,mask)\n",
    "    bounded_array_f=np.multiply(bounded_array,mask)\n",
    "    bounded_array_f=bounded_array_f[~np.all((bounded_array_f)==0,axis=1)]\n",
    "    bayesian_coordinates_f=bayesian_coordinates_f[~np.all((bayesian_coordinates_f)==0,axis=1)]\n",
    "\n",
    "\n",
    "    A=np.ones((3,3))\n",
    "    A[0:2,:]=del_tri_pts2.reshape(3,2).T\n",
    "\n",
    "\n",
    "\n",
    "    A_coord=A@bayesian_coordinates_f.T\n",
    "    A_coord=A_coord/A_coord[-1]\n",
    "\n",
    "    A_coord=A_coord.astype(np.int32).T\n",
    "    bounded_array_f=bounded_array_f.astype(np.int32)\n",
    "    bounded_array_f=bounded_array_f[:,:2]\n",
    "    A_coord=A_coord[:,:2]\n",
    "#bounded_array_f\n",
    "\n",
    "    #print(bounded_array_f.shape)\n",
    "\n",
    "    #A_coord=np.array(A_coord/A_coord[:,-1])\n",
    "    #A_coord=A_coord[:,:2]\n",
    "\n",
    "#interpolate.interp2d(A_coord[0,:],A_coord[1,:],img[bounded_array_f[:,0:2],:])\n",
    "#A_coord\n",
    "img3=np.zeros(img2.shape,dtype=np.uint8)\n",
    "\n",
    "k=np.zeros((3,3))\n",
    "# for i_ in range(len(del_tri_pts1)):\n",
    "#     for j_ in range(i_,len(del_tri_pts1)):\n",
    "#         k[i_,j_]=distance_function(del_tri_pts1[i_][j_])\n",
    "#         k[j_,i_]=k[i_,j_]\n",
    "            \n",
    "for i in range(len(delunay_traingle_pts_list[0])):\n",
    "    image_warping(delunay_traingle_pts_list[0][i],delunay_traingle_pts_list[1][i],img2)\n",
    "plt.imshow(img2)\n",
    "delunay_traingle_pts_list[0].shape\n",
    "#"
   ]
  },
  {
   "cell_type": "code",
   "execution_count": null,
   "id": "1218dd4e-f73c-4206-9bf8-274578918494",
   "metadata": {},
   "outputs": [],
   "source": [
    "plt.imshow(img3)"
   ]
  },
  {
   "cell_type": "code",
   "execution_count": null,
   "id": "0bbd7bf8-afe9-4de2-ba55-a3f384095a1c",
   "metadata": {},
   "outputs": [],
   "source": [
    "delunay_traingle_pts_list[0][i].reshape(3,2).T"
   ]
  },
  {
   "cell_type": "code",
   "execution_count": null,
   "id": "b98f2907-0c7b-4f37-8e66-8a6d1679077c",
   "metadata": {},
   "outputs": [],
   "source": [
    "bounded_array_f\n",
    "img2[bounded_array_f[:,1],bounded_array_f[:,0]]\n",
    "img2[A_coord[:,1],A_coord[:,0]]\n",
    "#A_coord\n",
    "#A_coord/A_coord[-1]"
   ]
  },
  {
   "cell_type": "code",
   "execution_count": null,
   "id": "db86c7c8-2486-48ad-b4ac-bc37d17259c2",
   "metadata": {},
   "outputs": [],
   "source": [
    "bayesian_coordinates_f.shape\n",
    "A.shape\n",
    "#mask[bayesian_coordinates>=1]=0\n",
    "#~np.any(mask==0,axis=1)"
   ]
  },
  {
   "cell_type": "code",
   "execution_count": null,
   "id": "ee3c4945-b667-4967-8e51-87f34c5a97a9",
   "metadata": {},
   "outputs": [],
   "source": []
  },
  {
   "cell_type": "code",
   "execution_count": null,
   "id": "bc3e9ef6-7442-415e-ac0f-56fdf5e45203",
   "metadata": {},
   "outputs": [],
   "source": []
  },
  {
   "cell_type": "code",
   "execution_count": null,
   "id": "751d161e-d541-46d0-9f2e-ea10e77f3cf1",
   "metadata": {},
   "outputs": [],
   "source": []
  },
  {
   "cell_type": "code",
   "execution_count": null,
   "id": "6c46dfde-c1ae-430a-90e6-932b2e517da9",
   "metadata": {},
   "outputs": [],
   "source": [
    "plt.imshow(img2)"
   ]
  },
  {
   "cell_type": "code",
   "execution_count": null,
   "id": "982b0eb1-6251-4733-9850-fb27a7e6a1ac",
   "metadata": {},
   "outputs": [],
   "source": [
    "x"
   ]
  },
  {
   "cell_type": "code",
   "execution_count": null,
   "id": "20a5cc0e-4ed7-43ed-85d5-1cd97d2e20b3",
   "metadata": {},
   "outputs": [],
   "source": []
  }
 ],
 "metadata": {
  "kernelspec": {
   "display_name": "Python 3 (ipykernel)",
   "language": "python",
   "name": "python3"
  },
  "language_info": {
   "codemirror_mode": {
    "name": "ipython",
    "version": 3
   },
   "file_extension": ".py",
   "mimetype": "text/x-python",
   "name": "python",
   "nbconvert_exporter": "python",
   "pygments_lexer": "ipython3",
   "version": "3.8.10"
  }
 },
 "nbformat": 4,
 "nbformat_minor": 5
}
