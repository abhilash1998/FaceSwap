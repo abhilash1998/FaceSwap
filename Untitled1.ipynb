{
 "cells": [
  {
   "cell_type": "code",
   "execution_count": 3,
   "id": "5c7c2f2c-3504-46c5-892a-fae44519baf4",
   "metadata": {},
   "outputs": [],
   "source": [
    "import numpy as np"
   ]
  },
  {
   "cell_type": "code",
   "execution_count": 151,
   "id": "20226f0c-bf98-4be6-83d7-347e9ab3174d",
   "metadata": {},
   "outputs": [],
   "source": [
    "def print_x(x):\n",
    "    print('Hello_',x)\n",
    "class x:\n",
    "    def call(self,xx,method):\n",
    "        method(xx)"
   ]
  },
  {
   "cell_type": "code",
   "execution_count": 153,
   "id": "5a5171c3-8aea-4fbc-b670-456e2a49b46e",
   "metadata": {},
   "outputs": [
    {
     "name": "stdout",
     "output_type": "stream",
     "text": [
      "Hello_ abhi\n"
     ]
    }
   ],
   "source": [
    "abhi=x()\n",
    "abhi.call(\"abhi\",print_x)"
   ]
  },
  {
   "cell_type": "code",
   "execution_count": null,
   "id": "1f9fcc14-5dfe-4a9e-9f1f-f1836351c868",
   "metadata": {},
   "outputs": [],
   "source": [
    "def L2(reference,query):\n",
    "    min=999\n",
    "    distance_m=np.zeros(query.shape[0])\n",
    "    iter_=0\n",
    "    for j in query:\n",
    "        for i in reference:\n",
    "\n",
    "            dist_=np.sqrt(np.sum(np.square(i-j)) )\n",
    "            if dist_<min:\n",
    "                dist_=min\n",
    "        distance_m[iter_]=dist_\n",
    "        iter_=iter_+1\n",
    "    return distance_m\n",
    "\n",
    "def cityblock(reference,query):\n",
    "    min=999\n",
    "    distance_m=np.zeros(query.shape[0])\n",
    "    iter_=0\n",
    "    for j in query:\n",
    "        for i in reference:\n",
    "\n",
    "            dist_=(np.sum(np.abs(i-j)) )\n",
    "            if dist_<min:\n",
    "                dist_=min\n",
    "        distance_m[iter_]=dist_\n",
    "        iter_=iter_+1\n",
    "    return distance_m\n",
    "\n",
    "class KNN:\n",
    "    def __init__(self,references,distanceFn=my_distance_fn,K):\n",
    "        self.references=references\n",
    "        self.distanceFn=my_distance_fn\n",
    "        self.K=K\n",
    "        self.all_distances=[]\n",
    "        self.references_list=[]\n",
    "    def observe(self,query):\n",
    "        #if len(query.shape)!=1:\n",
    "            #query.reshape\n",
    "        dist=[]\n",
    "        #for q in query:\n",
    "            #for ref in self.references:\n",
    "            #query_stack=np.tile(query,self.references.shape[0])\n",
    "        dist_matrix=self.distanceFn(query_stack,ref)\n",
    "        min_dist=np.min(dist_matrix,axis=1)\n",
    "        x_i_sorted=np.take_along_axis(s_i[0],,axis=-1)\n",
    "        # dist.append(x_i_sorted)\n",
    "        self.all_distances.append(x_i_sorted)\n",
    "        self.references_list.append(query)\n",
    "    @property\n",
    "    def nearest_k(self)->np.ndarray:\n",
    "        self.reference_list=np.array(self.reference_list)\n",
    "        self.all_distances=np.array(self.all_distances)\n",
    "        self.reference_list=self.reference_list.reshape(self.reference_list.shape[0]*self.reference_list.shape[1],self.referece_list[2])\n",
    "        self.all_distances=self.all_distances.reshape(self.all_distance.shape[0]*self.all_distances.shape[1],self.all_distances.shape[2])\n",
    "        indx=np.argsort(self.all_distances)\n",
    "        sorted_list=self.reference_list[indx,:]\n",
    "        \n",
    "        return sorted_list[:self.K,:]\n",
    "def get_nearest_neighbors(references:np.ndarray,distance_function_name:str,\n",
    "                          k:int,\n",
    "                          queries:Iterable[np.ndarray]\n",
    "                         )->np.ndarray:\n",
    "    assert distance_function_name in ('L2','cityblock')\n",
    "    #distance_fn={'cityblock':cityblock,'L2':}\n",
    "    if distance_function_name=='L2':\n",
    "        my_distance_fn=L2\n",
    "    else:\n",
    "        my_distance_fn=cityblock\n",
    "    knn=KNN(references,distanceFn=my_distance_fn,K)\n",
    "    for query in queries:\n",
    "        knn.observe(query)\n",
    "    return knn.nearest_k\n",
    "    "
   ]
  },
  {
   "cell_type": "code",
   "execution_count": 128,
   "id": "f94108a7-69df-4d91-b9e2-89cf8b2d7b95",
   "metadata": {},
   "outputs": [],
   "source": [
    "s_i=[]\n",
    "\n",
    "for i in range(3):\n",
    "    x_i=np.random.randint(0,4,(3,4))\n",
    "    s_i.append(x_i)\n",
    "s_i=np.array(s_i)"
   ]
  },
  {
   "cell_type": "code",
   "execution_count": 136,
   "id": "0261cca7-48b5-4752-bd52-c6595978f8a2",
   "metadata": {},
   "outputs": [
    {
     "data": {
      "text/plain": [
       "array([[[1, 3, 0, 2],\n",
       "        [3, 1, 1, 2],\n",
       "        [3, 3, 2, 0]],\n",
       "\n",
       "       [[3, 1, 0, 0],\n",
       "        [3, 3, 0, 3],\n",
       "        [2, 3, 0, 0]],\n",
       "\n",
       "       [[2, 1, 0, 0],\n",
       "        [0, 0, 0, 3],\n",
       "        [3, 0, 3, 1]]])"
      ]
     },
     "execution_count": 136,
     "metadata": {},
     "output_type": "execute_result"
    }
   ],
   "source": [
    "ls=[]\n",
    "for i in range(4):\n",
    "    x=np.array([np.random.randint(4) for i in range(3)])\n",
    "    ls.append(x)\n",
    "ls=np.array(ls)\n",
    "x_ind=np.argsort(x)\n",
    "s_i[x_ind,:,:]"
   ]
  },
  {
   "cell_type": "code",
   "execution_count": 146,
   "id": "524be1cd-b1dd-4bf0-819a-34ca119dc50f",
   "metadata": {},
   "outputs": [
    {
     "data": {
      "text/plain": [
       "array([[1, 3, 0, 2],\n",
       "       [3, 3, 2, 0],\n",
       "       [3, 1, 1, 2]])"
      ]
     },
     "execution_count": 146,
     "metadata": {},
     "output_type": "execute_result"
    }
   ],
   "source": [
    "s_i.reshape(s_i.shape[0]*s_i.shape[1],s_i.shape[2])[x_ind,:]"
   ]
  },
  {
   "cell_type": "code",
   "execution_count": 145,
   "id": "23adc745-ec5b-4892-bcb3-0c077f4c8f45",
   "metadata": {},
   "outputs": [
    {
     "data": {
      "text/plain": [
       "array([[[1, 3, 0, 2],\n",
       "        [3, 1, 1, 2],\n",
       "        [3, 3, 2, 0]],\n",
       "\n",
       "       [[2, 1, 0, 0],\n",
       "        [0, 0, 0, 3],\n",
       "        [3, 0, 3, 1]],\n",
       "\n",
       "       [[3, 1, 0, 0],\n",
       "        [3, 3, 0, 3],\n",
       "        [2, 3, 0, 0]]])"
      ]
     },
     "execution_count": 145,
     "metadata": {},
     "output_type": "execute_result"
    }
   ],
   "source": [
    "s_i"
   ]
  },
  {
   "cell_type": "code",
   "execution_count": 94,
   "id": "4ae3c2fa-2e4e-49e9-b048-95e1c421c60d",
   "metadata": {},
   "outputs": [
    {
     "data": {
      "text/plain": [
       "array([[2, 2, 3],\n",
       "       [2, 3, 3],\n",
       "       [0, 3, 3]])"
      ]
     },
     "execution_count": 94,
     "metadata": {},
     "output_type": "execute_result"
    }
   ],
   "source": [
    "x_i#.sort()\n",
    "x_i_sorted=np.take_along_axis(x_i,np.argsort(x_i),axis=1)\n",
    "#x_i[ind_x]\n",
    "x_i_sorted\n",
    "index_x=np.argsort(x_i)\n",
    "\n",
    "\n",
    "x_i_sorted"
   ]
  },
  {
   "cell_type": "code",
   "execution_count": 98,
   "id": "c968cfd3-4224-46ad-bce6-0cdd555eb7f4",
   "metadata": {},
   "outputs": [
    {
     "data": {
      "text/plain": [
       "(3, 30)"
      ]
     },
     "execution_count": 98,
     "metadata": {},
     "output_type": "execute_result"
    }
   ],
   "source": [
    "x=np.tile(index_x,(1,10))\n",
    "np.repeat\n",
    "x.shape"
   ]
  },
  {
   "cell_type": "code",
   "execution_count": 52,
   "id": "274092cd-3d7b-4545-be6d-3689437d1535",
   "metadata": {},
   "outputs": [
    {
     "data": {
      "text/plain": [
       "array([[0, 1, 2],\n",
       "       [0, 2, 1],\n",
       "       [2, 0, 1]])"
      ]
     },
     "execution_count": 52,
     "metadata": {},
     "output_type": "execute_result"
    }
   ],
   "source": [
    "x_i\n",
    "xindex=np.argsort(x_i)\n",
    "xindex"
   ]
  },
  {
   "cell_type": "code",
   "execution_count": 55,
   "id": "15e6acc2-7a25-4ca9-9043-48559bbb1ebb",
   "metadata": {},
   "outputs": [
    {
     "data": {
      "text/plain": [
       "(array([[0, 0, 0],\n",
       "        [0, 0, 0],\n",
       "        [0, 0, 0]]),\n",
       " array([[0, 1, 2],\n",
       "        [0, 2, 1],\n",
       "        [2, 0, 1]]))"
      ]
     },
     "execution_count": 55,
     "metadata": {},
     "output_type": "execute_result"
    }
   ],
   "source": [
    "xindex_2=np.unravel_index(xindex,(3,3))\n",
    "xindex_2"
   ]
  },
  {
   "cell_type": "code",
   "execution_count": 34,
   "id": "60577d83-8d50-4711-8901-4de9807da9c9",
   "metadata": {},
   "outputs": [
    {
     "data": {
      "text/plain": [
       "array([[[[1, 2, 3],\n",
       "         [3, 1, 0],\n",
       "         [3, 1, 2]],\n",
       "\n",
       "        [[2, 0, 1],\n",
       "         [1, 0, 0],\n",
       "         [3, 2, 1]],\n",
       "\n",
       "        [[1, 3, 1],\n",
       "         [1, 1, 2],\n",
       "         [3, 0, 2]]],\n",
       "\n",
       "\n",
       "       [[[1, 2, 3],\n",
       "         [3, 1, 0],\n",
       "         [3, 1, 2]],\n",
       "\n",
       "        [[1, 3, 1],\n",
       "         [1, 1, 2],\n",
       "         [3, 0, 2]],\n",
       "\n",
       "        [[2, 0, 1],\n",
       "         [1, 0, 0],\n",
       "         [3, 2, 1]]],\n",
       "\n",
       "\n",
       "       [[[1, 3, 1],\n",
       "         [1, 1, 2],\n",
       "         [3, 0, 2]],\n",
       "\n",
       "        [[1, 2, 3],\n",
       "         [3, 1, 0],\n",
       "         [3, 1, 2]],\n",
       "\n",
       "        [[2, 0, 1],\n",
       "         [1, 0, 0],\n",
       "         [3, 2, 1]]]])"
      ]
     },
     "execution_count": 34,
     "metadata": {},
     "output_type": "execute_result"
    }
   ],
   "source": [
    "s_i[xindex]"
   ]
  },
  {
   "cell_type": "code",
   "execution_count": 17,
   "id": "45198119-7d34-4d1b-85a3-471aa8e49d2e",
   "metadata": {},
   "outputs": [
    {
     "data": {
      "text/plain": [
       "(16, 9)"
      ]
     },
     "execution_count": 17,
     "metadata": {},
     "output_type": "execute_result"
    }
   ],
   "source": [
    "np.tile(np.reshape(x_t,x_t.shape[0]*x_t.shape[1]),(16,1)).shape"
   ]
  },
  {
   "cell_type": "code",
   "execution_count": null,
   "id": "354361e4-4ebb-4ed3-a342-8f86bff94549",
   "metadata": {},
   "outputs": [],
   "source": []
  }
 ],
 "metadata": {
  "kernelspec": {
   "display_name": "Python 3 (ipykernel)",
   "language": "python",
   "name": "python3"
  },
  "language_info": {
   "codemirror_mode": {
    "name": "ipython",
    "version": 3
   },
   "file_extension": ".py",
   "mimetype": "text/x-python",
   "name": "python",
   "nbconvert_exporter": "python",
   "pygments_lexer": "ipython3",
   "version": "3.8.9"
  }
 },
 "nbformat": 4,
 "nbformat_minor": 5
}
